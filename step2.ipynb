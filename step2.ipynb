{
 "cells": [
  {
   "cell_type": "code",
   "execution_count": 38,
   "metadata": {},
   "outputs": [],
   "source": [
    "import torch\n",
    "import torch.utils.data as utils\n",
    "from librosa.core import istft,load,stft\n",
    "from librosa.output import write_wav\n",
    "\n",
    "from IPython.display import display,Audio\n",
    "from tqdm.notebook import tqdm\n",
    "import glob\n",
    "import numpy as np\n",
    "import os\n",
    "import random\n",
    "import re\n",
    "\n",
    "import model as mm\n",
    "import utils as ut\n",
    "from parameter import Parameter"
   ]
  },
  {
   "cell_type": "code",
   "execution_count": 39,
   "metadata": {},
   "outputs": [
    {
     "name": "stdout",
     "output_type": "stream",
     "text": [
      "CUDA is available: True\n"
     ]
    }
   ],
   "source": [
    "p=Parameter()\n",
    "datasets_save_dir = p.datasets_path\n",
    "split = p.datasets_split #test/val/train\n",
    "batch_size = p.batch_size\n",
    "sample_rate = p.sample_rate\n",
    "num_layer = p.num_layer\n",
    "model_dir_path = p.model_path\n",
    "\n",
    "clean_speech_dir = p.target_path\n",
    "noise_dir = p.noise_path\n",
    "\n",
    "audio_len = p.audio_len\n",
    "\n",
    "fft_size = p.fft_size\n",
    "hop_length = p.hop_length\n",
    "\n",
    "device = torch.device(\"cuda\" if torch.cuda.is_available() else \"cpu\")\n",
    "print(\"CUDA is available:\", torch.cuda.is_available())"
   ]
  },
  {
   "cell_type": "code",
   "execution_count": 40,
   "metadata": {},
   "outputs": [],
   "source": [
    "def length_fitting(data,audio_len):\n",
    "    if len(data) > audio_len:\n",
    "        data = data[:audio_len]\n",
    "    else: \n",
    "        while len(data) < audio_len:\n",
    "            data = np.concatenate((data,data),0)[:audio_len]\n",
    "    return data\n",
    "\n",
    "c_files = ut.take_path(clean_speech_dir)\n",
    "n_files = ut.take_path(noise_dir)\n",
    "\n",
    "random.shuffle(c_files)\n",
    "random.shuffle(n_files)\n",
    "\n",
    "num_c_files = len(c_files)\n",
    "num_n_files = len(n_files)"
   ]
  },
  {
   "cell_type": "code",
   "execution_count": 41,
   "metadata": {},
   "outputs": [],
   "source": [
    "model_path = 'model_layer5_20201219_163036_Epoch20.pt'"
   ]
  },
  {
   "cell_type": "code",
   "execution_count": 44,
   "metadata": {},
   "outputs": [
    {
     "data": {
      "application/vnd.jupyter.widget-view+json": {
       "model_id": "",
       "version_major": 2,
       "version_minor": 0
      },
      "text/plain": [
       "HBox(children=(HTML(value='[AUDIO Process..]'), FloatProgress(value=0.0, max=2.0), HTML(value='')))"
      ]
     },
     "metadata": {},
     "output_type": "display_data"
    },
    {
     "data": {
      "application/vnd.jupyter.widget-view+json": {
       "model_id": "",
       "version_major": 2,
       "version_minor": 0
      },
      "text/plain": [
       "HBox(children=(HTML(value='[AUDIO Process..]'), FloatProgress(value=0.0, max=2.0), HTML(value='')))"
      ]
     },
     "metadata": {},
     "output_type": "display_data"
    }
   ],
   "source": [
    "for i in range(2):\n",
    "\n",
    "    c_data, sr_c = load(c_files[i], sr=None)\n",
    "    n_data, sr_n = load(n_files[i], sr=None)\n",
    "\n",
    "    if sr_c != sample_rate:\n",
    "        c_data, _ = load(c_files[i], sr=sample_rate)\n",
    "\n",
    "    if sr_n != sample_rate:\n",
    "        n_data, _ = load(n_files[i], sr=sample_rate)\n",
    "\n",
    "    n_data = length_fitting(n_data,audio_len)\n",
    "\n",
    "    if len(c_data) < audio_len:\n",
    "        print(\"音声データが短すぎます。\")\n",
    "\n",
    "    else:\n",
    "        #modelのimport\n",
    "        c_p = c_data[:audio_len]\n",
    "        c_p_stft=stft(c_p, n_fft=fft_size, hop_length=hop_length)\n",
    "        f = c_p_stft.shape[0]\n",
    "        t = c_p_stft.shape[1]\n",
    "        num_layer = int(re.sub(\"\\\\D\", \"\", model_path)[0])\n",
    "        model = mm.Net(t,f, num_layer)\n",
    "        model.load_state_dict(torch.load(model_dir_path+model_path))\n",
    "\n",
    "        # processing\n",
    "        step = len(c_data) // audio_len\n",
    "\n",
    "        ret = torch.zeros([batch_size,f,t])\n",
    "\n",
    "        for i in tqdm(range(step+1),leave=False,desc='[AUDIO Process..]'):\n",
    "            \n",
    "            if i == step:\n",
    "                c_p = np.zeros(audio_len)\n",
    "                c = c_data[i*audio_len :]\n",
    "                c_p[:len(c)] = c\n",
    "\n",
    "            else:\n",
    "                c_p = c_data[i*audio_len : (i+1)*audio_len]\n",
    "                \n",
    "            n_p = n_data[: audio_len]\n",
    "\n",
    "            c_p_stft=stft(c_p, n_fft=fft_size, hop_length=hop_length)\n",
    "            n_p_stft=stft(n_p, n_fft=fft_size, hop_length=hop_length)\n",
    "\n",
    "            addnoise_stft=c_p_stft+n_p_stft\n",
    "\n",
    "            # modelに通す\n",
    "            addnoise_tensor=np.abs(addnoise_stft).astype(np.float32)\n",
    "            addnoise_tensor=torch.from_numpy(addnoise_tensor.astype(np.float32)).clone()\n",
    "\n",
    "            model.eval()\n",
    "            mask = model(ret.float())[int(batch_size / 3),:,:]\n",
    "            mask = mask.to('cpu').detach().numpy().copy()\n",
    "\n",
    "            audio = addnoise_stft * mask\n",
    "\n",
    "            audio =istft(audio, hop_length=hop_length)\n",
    "            addnoise =istft(addnoise_stft, hop_length=hop_length)\n",
    "\n",
    "            if i ==0:\n",
    "                output = audio\n",
    "                _output = addnoise\n",
    "\n",
    "            else:\n",
    "                output = np.concatenate([output,audio])\n",
    "                _output = np.concatenate([_output,addnoise])\n",
    "\n",
    "        display(Audio(_output,rate = sample_rate))\n",
    "        display(Audio(output,rate = sample_rate))"
   ]
  }
 ],
 "metadata": {
  "kernelspec": {
   "display_name": "Python 3",
   "language": "python",
   "name": "python3"
  },
  "language_info": {
   "codemirror_mode": {
    "name": "ipython",
    "version": 3
   },
   "file_extension": ".py",
   "mimetype": "text/x-python",
   "name": "python",
   "nbconvert_exporter": "python",
   "pygments_lexer": "ipython3",
   "version": "3.7.9"
  }
 },
 "nbformat": 4,
 "nbformat_minor": 4
}
